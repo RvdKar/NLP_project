{
 "cells": [
  {
   "cell_type": "code",
   "execution_count": 7,
   "id": "e95c5143",
   "metadata": {},
   "outputs": [],
   "source": [
    "import pandas as pd\n",
    "import json"
   ]
  },
  {
   "cell_type": "code",
   "execution_count": 8,
   "id": "8ff098b9",
   "metadata": {},
   "outputs": [],
   "source": [
    "# Note, data paths are hardcoded\n",
    "\n",
    "submissions_data_path = r\"C:\\Users\\marti\\OneDrive\\Bureaublad\\Minor AI\\NLP\\Project\\bigdata\\amitheasshole\\amitheasshole_submissions.ndjson\"\n",
    "comments_data_path = r\"C:\\Users\\marti\\OneDrive\\Bureaublad\\Minor AI\\NLP\\Project\\bigdata\\amitheasshole\\amitheasshole_comments.ndjson\""
   ]
  },
  {
   "cell_type": "code",
   "execution_count": null,
   "id": "ddf0c2a0",
   "metadata": {},
   "outputs": [],
   "source": [
    "def ndjson_to_dataframe(file_path, num_lines):\n",
    "    data = []\n",
    "    with open(file_path, 'r', encoding='utf-8') as f:\n",
    "        for i, line in enumerate(f):\n",
    "            if i >= num_lines:\n",
    "                break\n",
    "            data.append(json.loads(line))\n",
    "    return pd.DataFrame(data)\n"
   ]
  },
  {
   "cell_type": "code",
   "execution_count": 35,
   "id": "c53bb051",
   "metadata": {},
   "outputs": [],
   "source": [
    "submissions_dataframe = ndjson_to_dataframe(submissions_data_path, 1e4)\n",
    "comments_dataframe = ndjson_to_dataframe(comments_data_path, 1e4)"
   ]
  },
  {
   "cell_type": "code",
   "execution_count": 36,
   "id": "660b4713",
   "metadata": {},
   "outputs": [
    {
     "name": "stdout",
     "output_type": "stream",
     "text": [
      "Index(['all_awardings', 'archived', 'associated_award', 'author',\n",
      "       'author_created_utc', 'author_flair_background_color',\n",
      "       'author_flair_css_class', 'author_flair_richtext',\n",
      "       'author_flair_template_id', 'author_flair_text',\n",
      "       'author_flair_text_color', 'author_flair_type', 'author_fullname',\n",
      "       'author_patreon_flair', 'author_premium', 'body', 'can_gild',\n",
      "       'collapsed', 'collapsed_because_crowd_control', 'collapsed_reason',\n",
      "       'collapsed_reason_code', 'comment_type', 'controversiality',\n",
      "       'created_utc', 'distinguished', 'edited', 'gilded', 'gildings', 'id',\n",
      "       'is_submitter', 'link_id', 'locked', 'name', 'no_follow', 'parent_id',\n",
      "       'permalink', 'retrieved_on', 'score', 'score_hidden', 'send_replies',\n",
      "       'stickied', 'subreddit', 'subreddit_id', 'subreddit_name_prefixed',\n",
      "       'subreddit_type', 'top_awarded_type', 'total_awards_received',\n",
      "       'treatment_tags', 'unrepliable_reason', 'author_cakeday'],\n",
      "      dtype='object')\n",
      "50\n"
     ]
    }
   ],
   "source": [
    "print(comments_dataframe.columns)\n",
    "print(len(comments_dataframe.columns))"
   ]
  },
  {
   "cell_type": "code",
   "execution_count": 38,
   "id": "d52ed3e9",
   "metadata": {},
   "outputs": [
    {
     "name": "stdout",
     "output_type": "stream",
     "text": [
      "Index(['all_awardings', 'allow_live_comments', 'archived', 'author',\n",
      "       'author_created_utc', 'author_flair_background_color',\n",
      "       'author_flair_css_class', 'author_flair_richtext',\n",
      "       'author_flair_template_id', 'author_flair_text',\n",
      "       'author_flair_text_color', 'author_flair_type', 'author_fullname',\n",
      "       'author_patreon_flair', 'author_premium', 'awarders', 'banned_by',\n",
      "       'can_gild', 'can_mod_post', 'category', 'content_categories',\n",
      "       'contest_mode', 'created_utc', 'discussion_type', 'distinguished',\n",
      "       'domain', 'edited', 'gilded', 'gildings', 'hidden', 'hide_score', 'id',\n",
      "       'is_created_from_ads_ui', 'is_crosspostable', 'is_meta',\n",
      "       'is_original_content', 'is_reddit_media_domain', 'is_robot_indexable',\n",
      "       'is_self', 'is_video', 'link_flair_background_color',\n",
      "       'link_flair_css_class', 'link_flair_richtext', 'link_flair_text',\n",
      "       'link_flair_text_color', 'link_flair_type', 'locked', 'media',\n",
      "       'media_embed', 'media_only', 'name', 'no_follow', 'num_comments',\n",
      "       'num_crossposts', 'over_18', 'parent_whitelist_status', 'permalink',\n",
      "       'pinned', 'pwls', 'quarantine', 'removed_by', 'removed_by_category',\n",
      "       'retrieved_on', 'retrieved_utc', 'score', 'secure_media',\n",
      "       'secure_media_embed', 'selftext', 'send_replies', 'spoiler', 'stickied',\n",
      "       'subreddit', 'subreddit_id', 'subreddit_name_prefixed',\n",
      "       'subreddit_subscribers', 'subreddit_type', 'suggested_sort',\n",
      "       'thumbnail', 'thumbnail_height', 'thumbnail_width', 'title',\n",
      "       'top_awarded_type', 'total_awards_received', 'treatment_tags',\n",
      "       'upvote_ratio', 'url', 'view_count', 'whitelist_status', 'wls',\n",
      "       'link_flair_template_id', 'call_to_action', 'author_cakeday',\n",
      "       'post_hint', 'preview'],\n",
      "      dtype='object')\n"
     ]
    }
   ],
   "source": [
    "print(submissions_dataframe.columns)"
   ]
  }
 ],
 "metadata": {
  "kernelspec": {
   "display_name": "ti3160tu-nlp-group-project",
   "language": "python",
   "name": "python3"
  },
  "language_info": {
   "codemirror_mode": {
    "name": "ipython",
    "version": 3
   },
   "file_extension": ".py",
   "mimetype": "text/x-python",
   "name": "python",
   "nbconvert_exporter": "python",
   "pygments_lexer": "ipython3",
   "version": "3.13.7"
  }
 },
 "nbformat": 4,
 "nbformat_minor": 5
}
