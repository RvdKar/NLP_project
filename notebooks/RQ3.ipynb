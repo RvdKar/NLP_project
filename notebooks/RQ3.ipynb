{
 "cells": [
  {
   "cell_type": "code",
   "execution_count": 62,
   "id": "ee9df9a6",
   "metadata": {},
   "outputs": [],
   "source": [
    "import nltk\n",
    "import re\n",
    "import json\n",
    "import pandas as pd\n",
    "from nltk.util import ngrams\n",
    "from collections import Counter, defaultdict\n",
    "from nltk.corpus import stopwords\n",
    "from nltk.tokenize import word_tokenize\n",
    "import matplotlib.pyplot as plt"
   ]
  },
  {
   "cell_type": "code",
   "execution_count": 16,
   "id": "3f1e7a45",
   "metadata": {},
   "outputs": [],
   "source": [
    "def load_json(filename):\n",
    "    with open(filename, 'r', encoding='utf-8') as f:\n",
    "        data = json.load(f)  # This loads the list of combined strings\n",
    "\n",
    "    # Split each entry into [submission, comments] by the separator\n",
    "    processed = []\n",
    "    for entry in data:\n",
    "        if \" [======>] \" in entry:\n",
    "            submission, comments = entry.split(\" [======>] \", 1)\n",
    "            processed.append([submission.strip(), comments.strip()])\n",
    "        else:\n",
    "            # Handle any malformed entry without the separator\n",
    "            processed.append([entry.strip(), \"\"])\n",
    "\n",
    "    return processed"
   ]
  },
  {
   "cell_type": "code",
   "execution_count": 17,
   "id": "083d49b3",
   "metadata": {},
   "outputs": [],
   "source": [
    "def preprocess(text):\n",
    "    text = text.lower()  # convert text to lower-case\n",
    "    text = re.sub('&gt;', '', text) # remove some special characters from the data &gt; corresponds to >\n",
    "    text = re.sub('&amp;', '', text) # remove some special characters from the data &amp; corresponds to &\n",
    "    text = re.sub(r'\\s+', ' ', text)  # eliminate duplicate whitespaces using regex\n",
    "    text = re.sub(r'\\[[^]]*\\]', '', text)  # remove text in square brackets\n",
    "    text = re.sub(r'http\\S+', '', text)  # remove URLs\n",
    "    text = re.sub(r'[^a-z0-9\\s]', '', text)  # remove punctuation (keep only characters and numbers)\n",
    "    return text"
   ]
  },
  {
   "cell_type": "code",
   "execution_count": 51,
   "id": "7619f2ae",
   "metadata": {},
   "outputs": [],
   "source": [
    "def count_nta_yta(strings):\n",
    "    results = []\n",
    "    for text in strings:\n",
    "        nta_count = len(re.findall(r'\\bnta\\b', text))\n",
    "        yta_count = len(re.findall(r'\\byta\\b', text))\n",
    "        results.append((nta_count, yta_count))\n",
    "    return results"
   ]
  },
  {
   "cell_type": "code",
   "execution_count": 18,
   "id": "bd360d92",
   "metadata": {},
   "outputs": [],
   "source": [
    "corpus = load_json(\"./data/output.json\")"
   ]
  },
  {
   "cell_type": "code",
   "execution_count": 38,
   "id": "54c34d7b",
   "metadata": {},
   "outputs": [
    {
     "ename": "KeyboardInterrupt",
     "evalue": "",
     "output_type": "error",
     "traceback": [
      "\u001b[31m---------------------------------------------------------------------------\u001b[39m",
      "\u001b[31mKeyboardInterrupt\u001b[39m                         Traceback (most recent call last)",
      "\u001b[36mCell\u001b[39m\u001b[36m \u001b[39m\u001b[32mIn[38]\u001b[39m\u001b[32m, line 1\u001b[39m\n\u001b[32m----> \u001b[39m\u001b[32m1\u001b[39m corpus_submissions = [x[\u001b[32m0\u001b[39m] \u001b[38;5;28;01mfor\u001b[39;00m x \u001b[38;5;129;01min\u001b[39;00m corpus]\n\u001b[32m      2\u001b[39m corpus_comment = [x[\u001b[32m1\u001b[39m] \u001b[38;5;28;01mfor\u001b[39;00m x \u001b[38;5;129;01min\u001b[39;00m corpus]\n",
      "\u001b[31mKeyboardInterrupt\u001b[39m: "
     ]
    }
   ],
   "source": [
    "corpus_submissions = [x[0] for x in corpus]\n",
    "corpus_comment = [x[1] for x in corpus]"
   ]
  },
  {
   "cell_type": "code",
   "execution_count": 39,
   "id": "d23a8e80",
   "metadata": {},
   "outputs": [],
   "source": [
    "corpus_submissions = corpus_submissions[0:5000]\n",
    "corpus_comment = corpus_comment[0:5000]"
   ]
  },
  {
   "cell_type": "code",
   "execution_count": 40,
   "id": "9801cad8",
   "metadata": {},
   "outputs": [],
   "source": [
    "# run our function to preprocess all comments\n",
    "preprocessed_comments = [preprocess(comment) for comment in corpus_comment]"
   ]
  },
  {
   "cell_type": "code",
   "execution_count": 55,
   "id": "4579d371",
   "metadata": {},
   "outputs": [],
   "source": [
    "nta_yta = count_nta_yta(preprocessed_comments)"
   ]
  },
  {
   "cell_type": "code",
   "execution_count": 65,
   "id": "e4ed80b3",
   "metadata": {},
   "outputs": [
    {
     "data": {
      "image/png": "[encoded data removed]",
      "text/plain": [
       "<Figure size 640x480 with 1 Axes>"
      ]
     },
     "metadata": {},
     "output_type": "display_data"
    }
   ],
   "source": [
    "proportions_ratios = [p[0] / sum(p) if sum(p) != 0 else 0 for p in nta_yta]\n",
    "plt.hist(proportions_ratios)\n",
    "plt.title(\"nta proportion\")\n",
    "plt.grid()"
   ]
  },
  {
   "cell_type": "code",
   "execution_count": null,
   "id": "1e04a2a2",
   "metadata": {},
   "outputs": [],
   "source": [
    "nltk.download('stopwords', quiet=True)\n",
    "nltk.download('punkt', quiet=True)\n",
    "nltk.download('punkt_tab', quiet=True)\n",
    "stop_words = set(stopwords.words('english'))\n",
    "\n",
    "# Tokenize the comments and remove the stopwords\n",
    "all_words_nta = [] # list of lists holding our dataset (each list corresponds to a comment and it includes the tokenized words)\n",
    "for comment in preprocessed_comments:\n",
    "    # tokenize the comments and remove stopwords\n",
    "    all_words_nta.append([ w for w in word_tokenize(comment) if w not in stop_words])"
   ]
  },
  {
   "cell_type": "code",
   "execution_count": null,
   "id": "1bd3feab",
   "metadata": {},
   "outputs": [],
   "source": [
    "nltk.download('stopwords', quiet=True)\n",
    "nltk.download('punkt', quiet=True)\n",
    "nltk.download('punkt_tab', quiet=True)\n",
    "stop_words = set(stopwords.words('english'))\n",
    "\n",
    "# Tokenize the comments and remove the stopwords that have nta proportion > 0.6\n",
    "all_words_nta = [] # list of lists holding our dataset (each list corresponds to a comment and it includes the tokenized words)\n",
    "for comment in range(len(preprocessed_comments)):\n",
    "    if proportions_ratios[comment] >= 0.6:\n",
    "        # tokenize the comments and remove stopwords\n",
    "        all_words_nta.append([ w for w in word_tokenize(preprocessed_comments[comment]) if w not in stop_words])"
   ]
  },
  {
   "cell_type": "code",
   "execution_count": null,
   "id": "2232a6d4",
   "metadata": {},
   "outputs": [],
   "source": [
    "# calculate all ngrams for n=2, 3, and 4\n",
    "all_bigrams = []\n",
    "all_trigrams = []\n",
    "all_fourgrams = []\n",
    "\n",
    "# for each document\n",
    "for doc in all_words_nta:\n",
    "    # calculate all ngrams with size 2 (i.e., bigrams) and then store them in our list holding all bigrams\n",
    "    all_bigrams.extend(list(ngrams(doc, 2)))\n",
    "    all_trigrams.extend(list(ngrams(doc, 3)))\n",
    "    all_fourgrams.extend(list(ngrams(doc, 4)))"
   ]
  },
  {
   "cell_type": "code",
   "execution_count": 69,
   "id": "4e7253ca",
   "metadata": {},
   "outputs": [
    {
     "name": "stdout",
     "output_type": "stream",
     "text": [
      "The top 10 most popular ngrams in our dataset are...\n"
     ]
    },
    {
     "data": {
      "text/html": [
       "<div>\n",
       "<style scoped>\n",
       "    .dataframe tbody tr th:only-of-type {\n",
       "        vertical-align: middle;\n",
       "    }\n",
       "\n",
       "    .dataframe tbody tr th {\n",
       "        vertical-align: top;\n",
       "    }\n",
       "\n",
       "    .dataframe thead th {\n",
       "        text-align: right;\n",
       "    }\n",
       "</style>\n",
       "<table border=\"1\" class=\"dataframe\">\n",
       "  <thead>\n",
       "    <tr style=\"text-align: right;\">\n",
       "      <th></th>\n",
       "      <th>Bigram</th>\n",
       "      <th>#</th>\n",
       "      <th>Trigram</th>\n",
       "      <th>#</th>\n",
       "      <th>Fourgram</th>\n",
       "      <th>#</th>\n",
       "    </tr>\n",
       "  </thead>\n",
       "  <tbody>\n",
       "    <tr>\n",
       "      <th>0</th>\n",
       "      <td>(sounds, like)</td>\n",
       "      <td>15965</td>\n",
       "      <td>(nta, sounds, like)</td>\n",
       "      <td>1998</td>\n",
       "      <td>(comment, removed, violates, rule)</td>\n",
       "      <td>1736</td>\n",
       "    </tr>\n",
       "    <tr>\n",
       "      <th>1</th>\n",
       "      <td>(nta, nta)</td>\n",
       "      <td>10683</td>\n",
       "      <td>(comment, removed, violates)</td>\n",
       "      <td>1737</td>\n",
       "      <td>(incidents, may, result, ban)</td>\n",
       "      <td>1732</td>\n",
       "    </tr>\n",
       "    <tr>\n",
       "      <th>2</th>\n",
       "      <td>(dont, know)</td>\n",
       "      <td>6232</td>\n",
       "      <td>(removed, violates, rule)</td>\n",
       "      <td>1736</td>\n",
       "      <td>(may, result, ban, questions)</td>\n",
       "      <td>1732</td>\n",
       "    </tr>\n",
       "    <tr>\n",
       "      <th>3</th>\n",
       "      <td>(im, sorry)</td>\n",
       "      <td>6074</td>\n",
       "      <td>(incidents, may, result)</td>\n",
       "      <td>1732</td>\n",
       "      <td>(result, ban, questions, concerns)</td>\n",
       "      <td>1732</td>\n",
       "    </tr>\n",
       "    <tr>\n",
       "      <th>4</th>\n",
       "      <td>(dont, think)</td>\n",
       "      <td>5713</td>\n",
       "      <td>(may, result, ban)</td>\n",
       "      <td>1732</td>\n",
       "      <td>(removed, violates, rule, 1)</td>\n",
       "      <td>1729</td>\n",
       "    </tr>\n",
       "    <tr>\n",
       "      <th>5</th>\n",
       "      <td>(dont, want)</td>\n",
       "      <td>5524</td>\n",
       "      <td>(result, ban, questions)</td>\n",
       "      <td>1732</td>\n",
       "      <td>(violates, rule, 1, incidents)</td>\n",
       "      <td>1729</td>\n",
       "    </tr>\n",
       "    <tr>\n",
       "      <th>6</th>\n",
       "      <td>(make, sure)</td>\n",
       "      <td>4463</td>\n",
       "      <td>(ban, questions, concerns)</td>\n",
       "      <td>1732</td>\n",
       "      <td>(rule, 1, incidents, may)</td>\n",
       "      <td>1729</td>\n",
       "    </tr>\n",
       "    <tr>\n",
       "      <th>7</th>\n",
       "      <td>(feel, like)</td>\n",
       "      <td>4284</td>\n",
       "      <td>(violates, rule, 1)</td>\n",
       "      <td>1729</td>\n",
       "      <td>(1, incidents, may, result)</td>\n",
       "      <td>1729</td>\n",
       "    </tr>\n",
       "    <tr>\n",
       "      <th>8</th>\n",
       "      <td>(im, sure)</td>\n",
       "      <td>4156</td>\n",
       "      <td>(rule, 1, incidents)</td>\n",
       "      <td>1729</td>\n",
       "      <td>(ban, questions, concerns, nta)</td>\n",
       "      <td>545</td>\n",
       "    </tr>\n",
       "    <tr>\n",
       "      <th>9</th>\n",
       "      <td>(year, old)</td>\n",
       "      <td>4074</td>\n",
       "      <td>(1, incidents, may)</td>\n",
       "      <td>1729</td>\n",
       "      <td>(play, stupid, games, win)</td>\n",
       "      <td>201</td>\n",
       "    </tr>\n",
       "  </tbody>\n",
       "</table>\n",
       "</div>"
      ],
      "text/plain": [
       "           Bigram      #                       Trigram     #  \\\n",
       "0  (sounds, like)  15965           (nta, sounds, like)  1998   \n",
       "1      (nta, nta)  10683  (comment, removed, violates)  1737   \n",
       "2    (dont, know)   6232     (removed, violates, rule)  1736   \n",
       "3     (im, sorry)   6074      (incidents, may, result)  1732   \n",
       "4   (dont, think)   5713            (may, result, ban)  1732   \n",
       "5    (dont, want)   5524      (result, ban, questions)  1732   \n",
       "6    (make, sure)   4463    (ban, questions, concerns)  1732   \n",
       "7    (feel, like)   4284           (violates, rule, 1)  1729   \n",
       "8      (im, sure)   4156          (rule, 1, incidents)  1729   \n",
       "9     (year, old)   4074           (1, incidents, may)  1729   \n",
       "\n",
       "                             Fourgram     #  \n",
       "0  (comment, removed, violates, rule)  1736  \n",
       "1       (incidents, may, result, ban)  1732  \n",
       "2       (may, result, ban, questions)  1732  \n",
       "3  (result, ban, questions, concerns)  1732  \n",
       "4        (removed, violates, rule, 1)  1729  \n",
       "5      (violates, rule, 1, incidents)  1729  \n",
       "6           (rule, 1, incidents, may)  1729  \n",
       "7         (1, incidents, may, result)  1729  \n",
       "8     (ban, questions, concerns, nta)   545  \n",
       "9          (play, stupid, games, win)   201  "
      ]
     },
     "execution_count": 69,
     "metadata": {},
     "output_type": "execute_result"
    }
   ],
   "source": [
    "# we use the Counter class from Collections to find the top N most occurring Ngrams in our dataset\n",
    "top_bigrams = Counter(all_bigrams).most_common(10)\n",
    "top_trigrams = Counter(all_trigrams).most_common(10)\n",
    "top_fourgrams = Counter(all_fourgrams).most_common(10)\n",
    "\n",
    "# lets present the most occurring Ngrams in a nice table using Pandas\n",
    "top_bigrams_df = pd.DataFrame(top_bigrams, columns =['Bigram', '#']) # create DataFrame for bigrams\n",
    "top_trigrams_df = pd.DataFrame(top_trigrams, columns=['Trigram', '#']) # create DataFrame for trigrams\n",
    "top_fourgrams_df = pd.DataFrame(top_fourgrams, columns=['Fourgram', '#']) # create DataFrame for fourgrams\n",
    "ngrams_df = pd.concat([top_bigrams_df, top_trigrams_df, top_fourgrams_df], axis=1) # concatenate all to a single datafrme\n",
    "\n",
    "print(\"The top 10 most popular ngrams in our dataset are...\")\n",
    "ngrams_df"
   ]
  }
 ],
 "metadata": {
  "kernelspec": {
   "display_name": "ti3160tu-nlp-group-project",
   "language": "python",
   "name": "python3"
  },
  "language_info": {
   "codemirror_mode": {
    "name": "ipython",
    "version": 3
   },
   "file_extension": ".py",
   "mimetype": "text/x-python",
   "name": "python",
   "nbconvert_exporter": "python",
   "pygments_lexer": "ipython3",
   "version": "3.13.7"
  }
 },
 "nbformat": 4,
 "nbformat_minor": 5
}
