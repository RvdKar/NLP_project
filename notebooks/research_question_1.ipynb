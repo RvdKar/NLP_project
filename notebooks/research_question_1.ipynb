{
 "cells": [
  {
   "cell_type": "code",
   "execution_count": 237,
   "id": "452c1571",
   "metadata": {},
   "outputs": [],
   "source": [
    "import polars as pl\n",
    "import src.settings as settings\n",
    "from typing import Optional\n",
    "from enum import Enum"
   ]
  },
  {
   "cell_type": "code",
   "execution_count": 238,
   "id": "f7292c4d",
   "metadata": {},
   "outputs": [],
   "source": [
    "COMMENTS_NDJSON = settings.DATA_DIR / 'amitheasshole_comments.ndjson'\n",
    "COMMENTS_PARQUET = settings.DATA_DIR / 'amitheasshole_comments.parquet'\n",
    "SUBMISSIONS_NDJSON = settings.DATA_DIR / 'amitheasshole_submissions.ndjson'\n",
    "SUBMISSIONS_PARQUET = settings.DATA_DIR / 'amitheasshole_submissions.parquet'\n",
    "\n",
    "class Flairs(Enum):\n",
    "    YTA = 'Asshole'\n",
    "    NTA = 'Not the A-hole'\n",
    "    ESH = 'Everyone Sucks'\n",
    "    NAH = 'No A-holes here'\n",
    "\n",
    "SHOULD_PRINT_INFO = True\n",
    "SHOULD_PRINT_HEAD = True\n",
    "N_HEAD = 10\n",
    "USE_TOP_LEVEL_COMMENTS_ONLY = True\n",
    "SHOULD_SORT_SUBMISSIONS = False # Sort submissions in descending order on the scores. Combined with N_SUBMISSIONS will give only the top N submissions with the highest scores\n",
    "N_SUBMISSIONS: Optional[int] = None # Limit the number of submissions if not None\n",
    "SHOULD_MAP_OTHER_FLAIRS = True # Map YTA_LIKE to YTA and NTA_LIKE to NTA\n",
    "YTA_LIKE = ('YTA', 'YWBTA', 'ESH')\n",
    "NTA_LIKE = ('NTA', 'YWNBTA', 'NAH')"
   ]
  },
  {
   "cell_type": "markdown",
   "id": "88a0d965",
   "metadata": {},
   "source": [
    "# (Convert to) and load from parquet into lazy frames"
   ]
  },
  {
   "cell_type": "code",
   "execution_count": 239,
   "id": "26a1840f",
   "metadata": {},
   "outputs": [],
   "source": [
    "if not SUBMISSIONS_PARQUET.exists():\n",
    "    submissions_lf = (\n",
    "        pl.scan_ndjson(\n",
    "            SUBMISSIONS_NDJSON,\n",
    "            schema_overrides={\n",
    "                'edited': pl.Utf8,\n",
    "            },\n",
    "        )\n",
    "        .with_columns(\n",
    "            pl.when(pl.col('edited').is_null() | (pl.col('edited') == 'false'))\n",
    "            .then(False)\n",
    "            .otherwise(True)\n",
    "            .alias('edited')\n",
    "        )\n",
    "        .select(\n",
    "            'author',\n",
    "            'edited',\n",
    "            'link_flair_text',\n",
    "            'name',\n",
    "            'num_comments',\n",
    "            'over_18',\n",
    "            'score',\n",
    "            'selftext',\n",
    "            'title',\n",
    "            'upvote_ratio',\n",
    "        )\n",
    "        .drop_nulls()\n",
    "        .drop_nans()\n",
    "    )\n",
    "\n",
    "    submissions_lf.sink_parquet(SUBMISSIONS_PARQUET, engine='streaming')\n",
    "\n",
    "submissions_lf = pl.scan_parquet(SUBMISSIONS_PARQUET)"
   ]
  },
  {
   "cell_type": "code",
   "execution_count": 240,
   "id": "5431d5c3",
   "metadata": {},
   "outputs": [],
   "source": [
    "if not COMMENTS_PARQUET.exists():\n",
    "    comments_lf = (\n",
    "        pl.scan_ndjson(\n",
    "            COMMENTS_NDJSON,\n",
    "            schema_overrides={\n",
    "                'edited': pl.Utf8,\n",
    "            },\n",
    "        )\n",
    "        .with_columns(\n",
    "            pl.when(pl.col('edited').is_null() | (pl.col('edited') == 'false'))\n",
    "            .then(False)\n",
    "            .otherwise(True)\n",
    "            .alias('edited')\n",
    "        )\n",
    "        .select(\n",
    "            'author',\n",
    "            'body',\n",
    "            'edited',\n",
    "            'is_submitter',\n",
    "            'link_id',\n",
    "            'parent_id',\n",
    "            'score',\n",
    "        ) # TODO: controversiality?\n",
    "        .drop_nulls()\n",
    "        .drop_nans()\n",
    "    )\n",
    "\n",
    "    comments_lf.sink_parquet(COMMENTS_PARQUET, engine='streaming')\n",
    "    \n",
    "comments_lf = pl.scan_parquet(COMMENTS_PARQUET)"
   ]
  },
  {
   "cell_type": "markdown",
   "id": "490e16de",
   "metadata": {},
   "source": [
    "# Submissions filtering"
   ]
  },
  {
   "cell_type": "code",
   "execution_count": 241,
   "id": "16f90b40",
   "metadata": {},
   "outputs": [
    {
     "name": "stdout",
     "output_type": "stream",
     "text": [
      "row count submissions original: 79223\n",
      "row count submissions filtered: 43000\n"
     ]
    }
   ],
   "source": [
    "# FIXME: extract these values to global constant?\n",
    "filtered_submissions_lf = submissions_lf.filter(\n",
    "    ~pl.col('over_18')\n",
    "    & ~pl.col('selftext').is_in(('[deleted]', '[removed]'))\n",
    "    & ~pl.col('author').is_in(('Judgement_Bot_AITA', 'AutoModerator')) # TODO: often, deleted authors still have post up and not deleted, so don't filter on [deleted]?\n",
    "    & pl.col('link_flair_text').is_in((Flairs.NTA.value, Flairs.YTA.value))\n",
    "    & ~pl.col('edited') # TODO: perhaps too aggresive, you might lose interesting posts\n",
    ")\n",
    "\n",
    "if SHOULD_PRINT_INFO:\n",
    "    print(f'row count submissions original: {submissions_lf.select(pl.len()).collect(engine='streaming').item()}')\n",
    "    print(f'row count submissions filtered: {filtered_submissions_lf.select(pl.len()).collect(engine='streaming').item()}')"
   ]
  },
  {
   "cell_type": "code",
   "execution_count": 242,
   "id": "75f01697",
   "metadata": {},
   "outputs": [],
   "source": [
    "selected_submissions_lf = filtered_submissions_lf.sort(pl.col('num_comments'), descending=True) if SHOULD_SORT_SUBMISSIONS else filtered_submissions_lf\n",
    "selected_submissions_lf = filtered_submissions_lf if N_SUBMISSIONS is None else selected_submissions_lf.limit(N_SUBMISSIONS)"
   ]
  },
  {
   "cell_type": "code",
   "execution_count": 243,
   "id": "5afd48e4",
   "metadata": {},
   "outputs": [
    {
     "data": {
      "text/html": [
       "<div><style>\n",
       ".dataframe > thead > tr,\n",
       ".dataframe > tbody > tr {\n",
       "  text-align: right;\n",
       "  white-space: pre-wrap;\n",
       "}\n",
       "</style>\n",
       "<small>shape: (10, 10)</small><table border=\"1\" class=\"dataframe\"><thead><tr><th>author</th><th>edited</th><th>link_flair_text</th><th>name</th><th>num_comments</th><th>over_18</th><th>score</th><th>selftext</th><th>title</th><th>upvote_ratio</th></tr><tr><td>str</td><td>bool</td><td>str</td><td>str</td><td>i64</td><td>bool</td><td>i64</td><td>str</td><td>str</td><td>f64</td></tr></thead><tbody><tr><td>&quot;Stock_Pizza_1721&quot;</td><td>false</td><td>&quot;Asshole&quot;</td><td>&quot;t3_v2fhu4&quot;</td><td>32</td><td>false</td><td>20</td><td>&quot;AITA for telling my mom someth…</td><td>&quot;AITA for telling something abo…</td><td>0.77</td></tr><tr><td>&quot;NotDobbythrwy123&quot;</td><td>false</td><td>&quot;Not the A-hole&quot;</td><td>&quot;t3_v2foac&quot;</td><td>165</td><td>false</td><td>933</td><td>&quot;15m here, USA. I&#x27;m on the spec…</td><td>&quot;AITA For Telling My Mom Chores…</td><td>0.94</td></tr><tr><td>&quot;Relevant_Hair_9259&quot;</td><td>false</td><td>&quot;Not the A-hole&quot;</td><td>&quot;t3_v2fs2w&quot;</td><td>11</td><td>false</td><td>1</td><td>&quot;Apologizes for any spelling mi…</td><td>&quot;AITA for not letting my friend…</td><td>0.56</td></tr><tr><td>&quot;weddingcakeaita&quot;</td><td>false</td><td>&quot;Not the A-hole&quot;</td><td>&quot;t3_v2g05m&quot;</td><td>344</td><td>false</td><td>2046</td><td>&quot;Some context: my (26f) dad has…</td><td>&quot;AITA for refusing to make my c…</td><td>0.97</td></tr><tr><td>&quot;throwaway778548&quot;</td><td>false</td><td>&quot;Not the A-hole&quot;</td><td>&quot;t3_v2gl84&quot;</td><td>754</td><td>false</td><td>7833</td><td>&quot;I 29f have 1 baby girl 3f and …</td><td>&quot;AITA for telling my mil it’s n…</td><td>0.96</td></tr><tr><td>&quot;ScrantonStranger&quot;</td><td>false</td><td>&quot;Not the A-hole&quot;</td><td>&quot;t3_v2gm82&quot;</td><td>64</td><td>false</td><td>120</td><td>&quot;My boyfriend (30) is moving ne…</td><td>&quot;AITA for refusing to pack my b…</td><td>0.89</td></tr><tr><td>&quot;1234random789&quot;</td><td>false</td><td>&quot;Not the A-hole&quot;</td><td>&quot;t3_v2gq1z&quot;</td><td>103</td><td>false</td><td>295</td><td>&quot;I’ll be very upfront, I knew w…</td><td>&quot;AITA for giving a group of ele…</td><td>0.94</td></tr><tr><td>&quot;OutlandishnessNo7623&quot;</td><td>false</td><td>&quot;Not the A-hole&quot;</td><td>&quot;t3_v2gtfj&quot;</td><td>33</td><td>false</td><td>21</td><td>&quot;My (16) mother (43) has a bf w…</td><td>&quot;AITA for asking my mum to brin…</td><td>0.84</td></tr><tr><td>&quot;Queenstantinople&quot;</td><td>false</td><td>&quot;Not the A-hole&quot;</td><td>&quot;t3_v2h8g7&quot;</td><td>12</td><td>false</td><td>4</td><td>&quot;I 25f just rejected my moms re…</td><td>&quot;AITA for rejecting my moms req…</td><td>0.83</td></tr><tr><td>&quot;joonjooniejoon&quot;</td><td>false</td><td>&quot;Not the A-hole&quot;</td><td>&quot;t3_v2h9ez&quot;</td><td>9</td><td>false</td><td>1</td><td>&quot;I had this guy that I was talk…</td><td>&quot;AITA for not contacting my &quot;fr…</td><td>0.67</td></tr></tbody></table></div>"
      ],
      "text/plain": [
       "shape: (10, 10)\n",
       "┌─────────────┬────────┬────────────┬───────────┬───┬───────┬────────────┬────────────┬────────────┐\n",
       "│ author      ┆ edited ┆ link_flair ┆ name      ┆ … ┆ score ┆ selftext   ┆ title      ┆ upvote_rat │\n",
       "│ ---         ┆ ---    ┆ _text      ┆ ---       ┆   ┆ ---   ┆ ---        ┆ ---        ┆ io         │\n",
       "│ str         ┆ bool   ┆ ---        ┆ str       ┆   ┆ i64   ┆ str        ┆ str        ┆ ---        │\n",
       "│             ┆        ┆ str        ┆           ┆   ┆       ┆            ┆            ┆ f64        │\n",
       "╞═════════════╪════════╪════════════╪═══════════╪═══╪═══════╪════════════╪════════════╪════════════╡\n",
       "│ Stock_Pizza ┆ false  ┆ Asshole    ┆ t3_v2fhu4 ┆ … ┆ 20    ┆ AITA for   ┆ AITA for   ┆ 0.77       │\n",
       "│ _1721       ┆        ┆            ┆           ┆   ┆       ┆ telling my ┆ telling    ┆            │\n",
       "│             ┆        ┆            ┆           ┆   ┆       ┆ mom        ┆ something  ┆            │\n",
       "│             ┆        ┆            ┆           ┆   ┆       ┆ someth…    ┆ abo…       ┆            │\n",
       "│ NotDobbythr ┆ false  ┆ Not the    ┆ t3_v2foac ┆ … ┆ 933   ┆ 15m here,  ┆ AITA For   ┆ 0.94       │\n",
       "│ wy123       ┆        ┆ A-hole     ┆           ┆   ┆       ┆ USA. I'm   ┆ Telling My ┆            │\n",
       "│             ┆        ┆            ┆           ┆   ┆       ┆ on the     ┆ Mom        ┆            │\n",
       "│             ┆        ┆            ┆           ┆   ┆       ┆ spec…      ┆ Chores…    ┆            │\n",
       "│ Relevant_Ha ┆ false  ┆ Not the    ┆ t3_v2fs2w ┆ … ┆ 1     ┆ Apologizes ┆ AITA for   ┆ 0.56       │\n",
       "│ ir_9259     ┆        ┆ A-hole     ┆           ┆   ┆       ┆ for any    ┆ not        ┆            │\n",
       "│             ┆        ┆            ┆           ┆   ┆       ┆ spelling   ┆ letting my ┆            │\n",
       "│             ┆        ┆            ┆           ┆   ┆       ┆ mi…        ┆ friend…    ┆            │\n",
       "│ weddingcake ┆ false  ┆ Not the    ┆ t3_v2g05m ┆ … ┆ 2046  ┆ Some       ┆ AITA for   ┆ 0.97       │\n",
       "│ aita        ┆        ┆ A-hole     ┆           ┆   ┆       ┆ context:   ┆ refusing   ┆            │\n",
       "│             ┆        ┆            ┆           ┆   ┆       ┆ my (26f)   ┆ to make my ┆            │\n",
       "│             ┆        ┆            ┆           ┆   ┆       ┆ dad has…   ┆ c…         ┆            │\n",
       "│ throwaway77 ┆ false  ┆ Not the    ┆ t3_v2gl84 ┆ … ┆ 7833  ┆ I 29f have ┆ AITA for   ┆ 0.96       │\n",
       "│ 8548        ┆        ┆ A-hole     ┆           ┆   ┆       ┆ 1 baby     ┆ telling my ┆            │\n",
       "│             ┆        ┆            ┆           ┆   ┆       ┆ girl 3f    ┆ mil it’s   ┆            │\n",
       "│             ┆        ┆            ┆           ┆   ┆       ┆ and …      ┆ n…         ┆            │\n",
       "│ ScrantonStr ┆ false  ┆ Not the    ┆ t3_v2gm82 ┆ … ┆ 120   ┆ My         ┆ AITA for   ┆ 0.89       │\n",
       "│ anger       ┆        ┆ A-hole     ┆           ┆   ┆       ┆ boyfriend  ┆ refusing   ┆            │\n",
       "│             ┆        ┆            ┆           ┆   ┆       ┆ (30) is    ┆ to pack my ┆            │\n",
       "│             ┆        ┆            ┆           ┆   ┆       ┆ moving ne… ┆ b…         ┆            │\n",
       "│ 1234random7 ┆ false  ┆ Not the    ┆ t3_v2gq1z ┆ … ┆ 295   ┆ I’ll be    ┆ AITA for   ┆ 0.94       │\n",
       "│ 89          ┆        ┆ A-hole     ┆           ┆   ┆       ┆ very       ┆ giving a   ┆            │\n",
       "│             ┆        ┆            ┆           ┆   ┆       ┆ upfront, I ┆ group of   ┆            │\n",
       "│             ┆        ┆            ┆           ┆   ┆       ┆ knew w…    ┆ ele…       ┆            │\n",
       "│ Outlandishn ┆ false  ┆ Not the    ┆ t3_v2gtfj ┆ … ┆ 21    ┆ My (16)    ┆ AITA for   ┆ 0.84       │\n",
       "│ essNo7623   ┆        ┆ A-hole     ┆           ┆   ┆       ┆ mother     ┆ asking my  ┆            │\n",
       "│             ┆        ┆            ┆           ┆   ┆       ┆ (43) has a ┆ mum to     ┆            │\n",
       "│             ┆        ┆            ┆           ┆   ┆       ┆ bf w…      ┆ brin…      ┆            │\n",
       "│ Queenstanti ┆ false  ┆ Not the    ┆ t3_v2h8g7 ┆ … ┆ 4     ┆ I 25f just ┆ AITA for   ┆ 0.83       │\n",
       "│ nople       ┆        ┆ A-hole     ┆           ┆   ┆       ┆ rejected   ┆ rejecting  ┆            │\n",
       "│             ┆        ┆            ┆           ┆   ┆       ┆ my moms    ┆ my moms    ┆            │\n",
       "│             ┆        ┆            ┆           ┆   ┆       ┆ re…        ┆ req…       ┆            │\n",
       "│ joonjooniej ┆ false  ┆ Not the    ┆ t3_v2h9ez ┆ … ┆ 1     ┆ I had this ┆ AITA for   ┆ 0.67       │\n",
       "│ oon         ┆        ┆ A-hole     ┆           ┆   ┆       ┆ guy that I ┆ not        ┆            │\n",
       "│             ┆        ┆            ┆           ┆   ┆       ┆ was talk…  ┆ contacting ┆            │\n",
       "│             ┆        ┆            ┆           ┆   ┆       ┆            ┆ my \"fr…    ┆            │\n",
       "└─────────────┴────────┴────────────┴───────────┴───┴───────┴────────────┴────────────┴────────────┘"
      ]
     },
     "metadata": {},
     "output_type": "display_data"
    }
   ],
   "source": [
    "if SHOULD_PRINT_HEAD:\n",
    "    _ = display(selected_submissions_lf.collect(engine='streaming').head(N_HEAD))"
   ]
  },
  {
   "cell_type": "markdown",
   "id": "12931768",
   "metadata": {},
   "source": [
    "# Comments filtering"
   ]
  },
  {
   "cell_type": "code",
   "execution_count": 244,
   "id": "a877eadc",
   "metadata": {},
   "outputs": [
    {
     "name": "stdout",
     "output_type": "stream",
     "text": [
      "row count comments original: 14560130\n",
      "row count comments filtered: 7389891\n"
     ]
    }
   ],
   "source": [
    "# FIXME: extract these values to global constant?\n",
    "filtered_comments_lf = comments_lf.filter(\n",
    "    ~pl.col('body').is_in(('[deleted]', '[removed]'))\n",
    "    & ~pl.col('author').is_in(('Judgement_Bot_AITA', 'AutoModerator')) # TODO: is this the same case as for submissions?\n",
    "    & ~pl.col('edited') # TODO: perhaps too aggresive, you might lose interesting posts\n",
    "    & ~pl.col('is_submitter')\n",
    ")\n",
    "\n",
    "if USE_TOP_LEVEL_COMMENTS_ONLY:\n",
    "    filtered_comments_lf = filtered_comments_lf.filter(\n",
    "        pl.col('parent_id').str.starts_with('t3_') # Comments always start with t1_, submissions with t3_, and subreddits with t5_\n",
    "    )\n",
    "\n",
    "if SHOULD_PRINT_INFO:\n",
    "    print(f'row count comments original: {comments_lf.select(pl.len()).collect(engine='streaming').item()}')\n",
    "    print(f'row count comments filtered: {filtered_comments_lf.select(pl.len()).collect(engine='streaming').item()}')"
   ]
  },
  {
   "cell_type": "code",
   "execution_count": 245,
   "id": "92653b27",
   "metadata": {},
   "outputs": [],
   "source": [
    "# TODO: necessary if we take all submissions?\n",
    "matched_comments_lf = filtered_comments_lf.join(\n",
    "    selected_submissions_lf,\n",
    "    left_on='parent_id',\n",
    "    right_on='name',\n",
    "    how='semi',\n",
    ")"
   ]
  },
  {
   "cell_type": "markdown",
   "id": "a6adb090",
   "metadata": {},
   "source": [
    "# Calculate submission features"
   ]
  },
  {
   "cell_type": "code",
   "execution_count": 246,
   "id": "18aaaa1a",
   "metadata": {},
   "outputs": [
    {
     "data": {
      "text/html": [
       "<div><style>\n",
       ".dataframe > thead > tr,\n",
       ".dataframe > tbody > tr {\n",
       "  text-align: right;\n",
       "  white-space: pre-wrap;\n",
       "}\n",
       "</style>\n",
       "<small>shape: (10, 6)</small><table border=\"1\" class=\"dataframe\"><thead><tr><th>name</th><th>ground_truth_majority_vote</th><th>text_length</th><th>link_flair_text</th><th>score</th><th>upvote_ratio</th></tr><tr><td>str</td><td>str</td><td>u32</td><td>str</td><td>i64</td><td>f64</td></tr></thead><tbody><tr><td>&quot;t3_v2fhu4&quot;</td><td>&quot;YTA&quot;</td><td>471</td><td>&quot;Asshole&quot;</td><td>20</td><td>0.77</td></tr><tr><td>&quot;t3_v2foac&quot;</td><td>&quot;NTA&quot;</td><td>1607</td><td>&quot;Not the A-hole&quot;</td><td>933</td><td>0.94</td></tr><tr><td>&quot;t3_v2fs2w&quot;</td><td>&quot;NTA&quot;</td><td>1545</td><td>&quot;Not the A-hole&quot;</td><td>1</td><td>0.56</td></tr><tr><td>&quot;t3_v2g05m&quot;</td><td>&quot;NTA&quot;</td><td>2050</td><td>&quot;Not the A-hole&quot;</td><td>2046</td><td>0.97</td></tr><tr><td>&quot;t3_v2gl84&quot;</td><td>&quot;NTA&quot;</td><td>1934</td><td>&quot;Not the A-hole&quot;</td><td>7833</td><td>0.96</td></tr><tr><td>&quot;t3_v2gm82&quot;</td><td>&quot;NTA&quot;</td><td>1446</td><td>&quot;Not the A-hole&quot;</td><td>120</td><td>0.89</td></tr><tr><td>&quot;t3_v2gq1z&quot;</td><td>&quot;NTA&quot;</td><td>1940</td><td>&quot;Not the A-hole&quot;</td><td>295</td><td>0.94</td></tr><tr><td>&quot;t3_v2gtfj&quot;</td><td>&quot;NTA&quot;</td><td>1289</td><td>&quot;Not the A-hole&quot;</td><td>21</td><td>0.84</td></tr><tr><td>&quot;t3_v2h8g7&quot;</td><td>&quot;NTA&quot;</td><td>2248</td><td>&quot;Not the A-hole&quot;</td><td>4</td><td>0.83</td></tr><tr><td>&quot;t3_v2h9ez&quot;</td><td>&quot;NTA&quot;</td><td>713</td><td>&quot;Not the A-hole&quot;</td><td>1</td><td>0.67</td></tr></tbody></table></div>"
      ],
      "text/plain": [
       "shape: (10, 6)\n",
       "┌───────────┬────────────────────────────┬─────────────┬─────────────────┬───────┬──────────────┐\n",
       "│ name      ┆ ground_truth_majority_vote ┆ text_length ┆ link_flair_text ┆ score ┆ upvote_ratio │\n",
       "│ ---       ┆ ---                        ┆ ---         ┆ ---             ┆ ---   ┆ ---          │\n",
       "│ str       ┆ str                        ┆ u32         ┆ str             ┆ i64   ┆ f64          │\n",
       "╞═══════════╪════════════════════════════╪═════════════╪═════════════════╪═══════╪══════════════╡\n",
       "│ t3_v2fhu4 ┆ YTA                        ┆ 471         ┆ Asshole         ┆ 20    ┆ 0.77         │\n",
       "│ t3_v2foac ┆ NTA                        ┆ 1607        ┆ Not the A-hole  ┆ 933   ┆ 0.94         │\n",
       "│ t3_v2fs2w ┆ NTA                        ┆ 1545        ┆ Not the A-hole  ┆ 1     ┆ 0.56         │\n",
       "│ t3_v2g05m ┆ NTA                        ┆ 2050        ┆ Not the A-hole  ┆ 2046  ┆ 0.97         │\n",
       "│ t3_v2gl84 ┆ NTA                        ┆ 1934        ┆ Not the A-hole  ┆ 7833  ┆ 0.96         │\n",
       "│ t3_v2gm82 ┆ NTA                        ┆ 1446        ┆ Not the A-hole  ┆ 120   ┆ 0.89         │\n",
       "│ t3_v2gq1z ┆ NTA                        ┆ 1940        ┆ Not the A-hole  ┆ 295   ┆ 0.94         │\n",
       "│ t3_v2gtfj ┆ NTA                        ┆ 1289        ┆ Not the A-hole  ┆ 21    ┆ 0.84         │\n",
       "│ t3_v2h8g7 ┆ NTA                        ┆ 2248        ┆ Not the A-hole  ┆ 4     ┆ 0.83         │\n",
       "│ t3_v2h9ez ┆ NTA                        ┆ 713         ┆ Not the A-hole  ┆ 1     ┆ 0.67         │\n",
       "└───────────┴────────────────────────────┴─────────────┴─────────────────┴───────┴──────────────┘"
      ]
     },
     "metadata": {},
     "output_type": "display_data"
    }
   ],
   "source": [
    "submission_features_lf = (\n",
    "    selected_submissions_lf\n",
    "    .with_columns(\n",
    "        ground_truth_majority_vote=(\n",
    "            pl.when(pl.col('link_flair_text') == 'Asshole').then(pl.lit('YTA'))\n",
    "            .when(pl.col('link_flair_text') == Flairs.ESH.value).then(pl.lit('ESH'))\n",
    "            .when(pl.col('link_flair_text') == Flairs.NTA.value).then(pl.lit('NTA'))\n",
    "            .when(pl.col('link_flair_text') == Flairs.NAH.value).then(pl.lit('NAH'))\n",
    "            .otherwise(None)\n",
    "        ),\n",
    "        text_length=(\n",
    "            pl.col('title').str.len_chars()\n",
    "            + pl.col('selftext').str.len_chars()\n",
    "        ),\n",
    "    )\n",
    "    .filter(pl.col('ground_truth_majority_vote').is_not_null())\n",
    "    .select(\n",
    "        'name',\n",
    "        'ground_truth_majority_vote',\n",
    "        'text_length',\n",
    "        'link_flair_text',\n",
    "        'score',\n",
    "        'upvote_ratio',\n",
    "    )\n",
    ")\n",
    "\n",
    "if SHOULD_MAP_OTHER_FLAIRS:\n",
    "    submission_features_lf = (\n",
    "        submission_features_lf\n",
    "        .with_columns(\n",
    "            pl.when(pl.col('ground_truth_majority_vote') == 'ESH').then(pl.lit('YTA'))\n",
    "            .when(pl.col('ground_truth_majority_vote') == 'NAH').then(pl.lit('NTA'))\n",
    "            .otherwise(pl.col('ground_truth_majority_vote'))\n",
    "            .alias('ground_truth_majority_vote')\n",
    "        )\n",
    "    )\n",
    "\n",
    "if SHOULD_PRINT_HEAD:\n",
    "    _ = display(submission_features_lf.collect(engine='streaming').head(N_HEAD))"
   ]
  },
  {
   "cell_type": "markdown",
   "id": "95e91aa2",
   "metadata": {},
   "source": [
    "# Extract vote from each comment"
   ]
  },
  {
   "cell_type": "code",
   "execution_count": 247,
   "id": "fe4edd88",
   "metadata": {},
   "outputs": [
    {
     "data": {
      "text/html": [
       "<div><style>\n",
       ".dataframe > thead > tr,\n",
       ".dataframe > tbody > tr {\n",
       "  text-align: right;\n",
       "  white-space: pre-wrap;\n",
       "}\n",
       "</style>\n",
       "<small>shape: (10, 4)</small><table border=\"1\" class=\"dataframe\"><thead><tr><th>link_id</th><th>score</th><th>extracted_vote</th><th>body</th></tr><tr><td>str</td><td>i64</td><td>str</td><td>str</td></tr></thead><tbody><tr><td>&quot;t3_zc6sf7&quot;</td><td>-2670</td><td>&quot;YTA&quot;</td><td>&quot;I&#x27;m going to say ESH\n",
       "\n",
       "Your sis…</td></tr><tr><td>&quot;t3_zy5buk&quot;</td><td>-2309</td><td>&quot;NTA&quot;</td><td>&quot;NAH - pain is pain.&nbsp;&nbsp;Suffering…</td></tr><tr><td>&quot;t3_xmundm&quot;</td><td>-1886</td><td>&quot;NTA&quot;</td><td>&quot;Do you guys usually start a me…</td></tr><tr><td>&quot;t3_vq0d0d&quot;</td><td>-1712</td><td>&quot;NTA&quot;</td><td>&quot;NTA. She lied about it not bei…</td></tr><tr><td>&quot;t3_wcnh0v&quot;</td><td>-1543</td><td>&quot;NTA&quot;</td><td>&quot;You&#x27;re NTA for including your …</td></tr><tr><td>&quot;t3_yu8tm5&quot;</td><td>-1471</td><td>&quot;YTA&quot;</td><td>&quot;YTA because once you caught on…</td></tr><tr><td>&quot;t3_yk6gn2&quot;</td><td>-1462</td><td>&quot;NTA&quot;</td><td>&quot;NTA because of the fact that i…</td></tr><tr><td>&quot;t3_vo8n7y&quot;</td><td>-1341</td><td>&quot;NTA&quot;</td><td>&quot;NTA, but I think that this is …</td></tr><tr><td>&quot;t3_vq0d0d&quot;</td><td>-1184</td><td>&quot;NTA&quot;</td><td>&quot;NTA...you don&#x27;t owe anyone aff…</td></tr><tr><td>&quot;t3_vq0d0d&quot;</td><td>-1069</td><td>&quot;YTA&quot;</td><td>&quot;ESH. She&#x27;s TA for lying but yo…</td></tr></tbody></table></div>"
      ],
      "text/plain": [
       "shape: (10, 4)\n",
       "┌───────────┬───────┬────────────────┬─────────────────────────────────┐\n",
       "│ link_id   ┆ score ┆ extracted_vote ┆ body                            │\n",
       "│ ---       ┆ ---   ┆ ---            ┆ ---                             │\n",
       "│ str       ┆ i64   ┆ str            ┆ str                             │\n",
       "╞═══════════╪═══════╪════════════════╪═════════════════════════════════╡\n",
       "│ t3_zc6sf7 ┆ -2670 ┆ YTA            ┆ I'm going to say ESH            │\n",
       "│           ┆       ┆                ┆                                 │\n",
       "│           ┆       ┆                ┆ Your sis…                       │\n",
       "│ t3_zy5buk ┆ -2309 ┆ NTA            ┆ NAH - pain is pain.  Suffering… │\n",
       "│ t3_xmundm ┆ -1886 ┆ NTA            ┆ Do you guys usually start a me… │\n",
       "│ t3_vq0d0d ┆ -1712 ┆ NTA            ┆ NTA. She lied about it not bei… │\n",
       "│ t3_wcnh0v ┆ -1543 ┆ NTA            ┆ You're NTA for including your … │\n",
       "│ t3_yu8tm5 ┆ -1471 ┆ YTA            ┆ YTA because once you caught on… │\n",
       "│ t3_yk6gn2 ┆ -1462 ┆ NTA            ┆ NTA because of the fact that i… │\n",
       "│ t3_vo8n7y ┆ -1341 ┆ NTA            ┆ NTA, but I think that this is … │\n",
       "│ t3_vq0d0d ┆ -1184 ┆ NTA            ┆ NTA...you don't owe anyone aff… │\n",
       "│ t3_vq0d0d ┆ -1069 ┆ YTA            ┆ ESH. She's TA for lying but yo… │\n",
       "└───────────┴───────┴────────────────┴─────────────────────────────────┘"
      ]
     },
     "metadata": {},
     "output_type": "display_data"
    }
   ],
   "source": [
    "body_lowercase = pl.col('body').str.to_lowercase()\n",
    "comment_votes_lf = (\n",
    "    matched_comments_lf\n",
    "    .filter(~pl.col('body').str.contains(r'\\bINFO\\b'))\n",
    "    .with_columns(\n",
    "        extracted_vote=(\n",
    "            pl.when(body_lowercase.str.contains(r'\\bywbta\\b')).then(pl.lit('YWBTA'))\n",
    "            .when(body_lowercase.str.contains(r'\\bywnbta\\b')).then(pl.lit('YWNBTA'))\n",
    "            .when(body_lowercase.str.contains(r'\\byta\\b')).then(pl.lit('YTA'))\n",
    "            .when(body_lowercase.str.contains(r'\\bnta\\b')).then(pl.lit('NTA'))\n",
    "            .when(body_lowercase.str.contains(r'\\besh\\b')).then(pl.lit('ESH'))\n",
    "            .when(body_lowercase.str.contains(r'\\bnah\\b')).then(pl.lit('NAH'))\n",
    "            .otherwise(None)\n",
    "        )\n",
    "    )\n",
    "    .filter(pl.col('extracted_vote').is_not_null())\n",
    "    .select(['link_id', 'score', 'extracted_vote', 'body'])\n",
    "    .drop_nulls()\n",
    "    .drop_nans()\n",
    ")\n",
    "\n",
    "if SHOULD_MAP_OTHER_FLAIRS:\n",
    "    comment_votes_lf = comment_votes_lf.with_columns(\n",
    "        pl.when(pl.col('extracted_vote').is_in(YTA_LIKE)).then(pl.lit('YTA'))\n",
    "        .when(pl.col('extracted_vote').is_in(NTA_LIKE)).then(pl.lit('NTA'))\n",
    "        .alias('extracted_vote')\n",
    "    )\n",
    "\n",
    "if SHOULD_PRINT_HEAD:\n",
    "    _ = display(comment_votes_lf.sort('score').collect(engine='streaming').head(N_HEAD))"
   ]
  },
  {
   "cell_type": "markdown",
   "id": "8deec619",
   "metadata": {},
   "source": [
    "# Calculate (weighted) majority vote based on extracted comment votes"
   ]
  },
  {
   "cell_type": "code",
   "execution_count": 248,
   "id": "b6abb4d0",
   "metadata": {},
   "outputs": [
    {
     "data": {
      "text/html": [
       "<div><style>\n",
       ".dataframe > thead > tr,\n",
       ".dataframe > tbody > tr {\n",
       "  text-align: right;\n",
       "  white-space: pre-wrap;\n",
       "}\n",
       "</style>\n",
       "<small>shape: (10, 7)</small><table border=\"1\" class=\"dataframe\"><thead><tr><th>link_id</th><th>n_yta</th><th>n_nta</th><th>n_comments</th><th>extracted_majority_vote</th><th>extracted_weighted_majority_vote</th><th>polarity</th></tr><tr><td>str</td><td>i32</td><td>i32</td><td>i32</td><td>str</td><td>str</td><td>f64</td></tr></thead><tbody><tr><td>&quot;t3_vcehxn&quot;</td><td>0</td><td>12</td><td>12</td><td>&quot;NTA&quot;</td><td>&quot;NTA&quot;</td><td>-1.0</td></tr><tr><td>&quot;t3_vci8lj&quot;</td><td>1</td><td>6</td><td>7</td><td>&quot;NTA&quot;</td><td>&quot;YTA&quot;</td><td>-0.714286</td></tr><tr><td>&quot;t3_vcqpfl&quot;</td><td>0</td><td>4</td><td>4</td><td>&quot;NTA&quot;</td><td>&quot;NTA&quot;</td><td>-1.0</td></tr><tr><td>&quot;t3_vbf5mr&quot;</td><td>0</td><td>1</td><td>1</td><td>&quot;NTA&quot;</td><td>&quot;NTA&quot;</td><td>-1.0</td></tr><tr><td>&quot;t3_vcunhd&quot;</td><td>6</td><td>6</td><td>12</td><td>&quot;UNDECIDED&quot;</td><td>&quot;NTA&quot;</td><td>0.0</td></tr><tr><td>&quot;t3_vdcdrr&quot;</td><td>13</td><td>3</td><td>16</td><td>&quot;YTA&quot;</td><td>&quot;YTA&quot;</td><td>0.625</td></tr><tr><td>&quot;t3_vdg538&quot;</td><td>0</td><td>12</td><td>12</td><td>&quot;NTA&quot;</td><td>&quot;NTA&quot;</td><td>-1.0</td></tr><tr><td>&quot;t3_vdk5xo&quot;</td><td>10</td><td>916</td><td>926</td><td>&quot;NTA&quot;</td><td>&quot;NTA&quot;</td><td>-0.978402</td></tr><tr><td>&quot;t3_vdw56d&quot;</td><td>19</td><td>1</td><td>20</td><td>&quot;YTA&quot;</td><td>&quot;YTA&quot;</td><td>0.9</td></tr><tr><td>&quot;t3_vmh01y&quot;</td><td>0</td><td>244</td><td>244</td><td>&quot;NTA&quot;</td><td>&quot;NTA&quot;</td><td>-1.0</td></tr></tbody></table></div>"
      ],
      "text/plain": [
       "shape: (10, 7)\n",
       "┌───────────┬───────┬───────┬────────────┬──────────────────────┬──────────────────────┬───────────┐\n",
       "│ link_id   ┆ n_yta ┆ n_nta ┆ n_comments ┆ extracted_majority_v ┆ extracted_weighted_m ┆ polarity  │\n",
       "│ ---       ┆ ---   ┆ ---   ┆ ---        ┆ ote                  ┆ ajority_vo…          ┆ ---       │\n",
       "│ str       ┆ i32   ┆ i32   ┆ i32        ┆ ---                  ┆ ---                  ┆ f64       │\n",
       "│           ┆       ┆       ┆            ┆ str                  ┆ str                  ┆           │\n",
       "╞═══════════╪═══════╪═══════╪════════════╪══════════════════════╪══════════════════════╪═══════════╡\n",
       "│ t3_vcehxn ┆ 0     ┆ 12    ┆ 12         ┆ NTA                  ┆ NTA                  ┆ -1.0      │\n",
       "│ t3_vci8lj ┆ 1     ┆ 6     ┆ 7          ┆ NTA                  ┆ YTA                  ┆ -0.714286 │\n",
       "│ t3_vcqpfl ┆ 0     ┆ 4     ┆ 4          ┆ NTA                  ┆ NTA                  ┆ -1.0      │\n",
       "│ t3_vbf5mr ┆ 0     ┆ 1     ┆ 1          ┆ NTA                  ┆ NTA                  ┆ -1.0      │\n",
       "│ t3_vcunhd ┆ 6     ┆ 6     ┆ 12         ┆ UNDECIDED            ┆ NTA                  ┆ 0.0       │\n",
       "│ t3_vdcdrr ┆ 13    ┆ 3     ┆ 16         ┆ YTA                  ┆ YTA                  ┆ 0.625     │\n",
       "│ t3_vdg538 ┆ 0     ┆ 12    ┆ 12         ┆ NTA                  ┆ NTA                  ┆ -1.0      │\n",
       "│ t3_vdk5xo ┆ 10    ┆ 916   ┆ 926        ┆ NTA                  ┆ NTA                  ┆ -0.978402 │\n",
       "│ t3_vdw56d ┆ 19    ┆ 1     ┆ 20         ┆ YTA                  ┆ YTA                  ┆ 0.9       │\n",
       "│ t3_vmh01y ┆ 0     ┆ 244   ┆ 244        ┆ NTA                  ┆ NTA                  ┆ -1.0      │\n",
       "└───────────┴───────┴───────┴────────────┴──────────────────────┴──────────────────────┴───────────┘"
      ]
     },
     "metadata": {},
     "output_type": "display_data"
    }
   ],
   "source": [
    "per_submission_extracted_majority_votes_lf = (\n",
    "    comment_votes_lf\n",
    "    .group_by('link_id')\n",
    "    .agg(\n",
    "        # Just use signed ints instead of unsigned for simplicity so that when you subtract these values, you can have negative values\n",
    "        n_yta=(pl.col('extracted_vote') == 'YTA').cast(pl.Int32).sum(),\n",
    "        n_nta=(pl.col('extracted_vote') == 'NTA').cast(pl.Int32).sum(),\n",
    "        weighted_yta=pl.when(pl.col('extracted_vote') == 'YTA').then(pl.col('score')).otherwise(0).cast(pl.Int64, strict=False).sum(),\n",
    "        weighted_nta=pl.when(pl.col('extracted_vote') == 'NTA').then(pl.col('score')).otherwise(0).cast(pl.Int64, strict=False).sum(),\n",
    "    )\n",
    "    .with_columns(\n",
    "        delta=pl.col('n_yta') - pl.col('n_nta'),\n",
    "        weighted_delta=pl.col('weighted_yta') - pl.col('weighted_nta'),\n",
    "        n_comments=pl.col('n_yta') + pl.col('n_nta')\n",
    "    )\n",
    "    .with_columns(\n",
    "        extracted_majority_vote=(\n",
    "            pl.when(pl.col('delta') > 0).then(pl.lit('YTA'))\n",
    "             .when(pl.col('delta') < 0).then(pl.lit('NTA'))\n",
    "             .otherwise(pl.lit('UNDECIDED'))\n",
    "        ),\n",
    "        extracted_weighted_majority_vote=(\n",
    "            pl.when(pl.col('weighted_delta') > 0).then(pl.lit('YTA'))\n",
    "             .when(pl.col('weighted_delta') < 0).then(pl.lit('NTA'))\n",
    "             .otherwise(pl.lit('UNDECIDED'))\n",
    "        ),\n",
    "        polarity=(\n",
    "            pl.when(pl.col('n_comments') > 0)\n",
    "            .then(\n",
    "                (pl.col('n_yta') - pl.col('n_nta'))\n",
    "                / pl.col('n_comments')\n",
    "            )\n",
    "            .otherwise(None) # TODO: filter out all nulls?\n",
    "        ),\n",
    "    )\n",
    "    .select(\n",
    "        'link_id',\n",
    "        'n_yta',\n",
    "        'n_nta',\n",
    "        'n_comments',\n",
    "        'extracted_majority_vote',\n",
    "        'extracted_weighted_majority_vote',\n",
    "        'polarity',\n",
    "    )\n",
    "    .drop_nulls()\n",
    "    .drop_nans()\n",
    ")\n",
    "\n",
    "if SHOULD_PRINT_HEAD:\n",
    "    _ = display(per_submission_extracted_majority_votes_lf.collect(engine='streaming').head(N_HEAD))"
   ]
  },
  {
   "cell_type": "code",
   "execution_count": 249,
   "id": "664b830c",
   "metadata": {},
   "outputs": [
    {
     "data": {
      "text/html": [
       "<div><style>\n",
       ".dataframe > thead > tr,\n",
       ".dataframe > tbody > tr {\n",
       "  text-align: right;\n",
       "  white-space: pre-wrap;\n",
       "}\n",
       "</style>\n",
       "<small>shape: (42_950, 14)</small><table border=\"1\" class=\"dataframe\"><thead><tr><th>name</th><th>ground_truth_majority_vote</th><th>text_length</th><th>link_flair_text</th><th>score</th><th>upvote_ratio</th><th>n_yta</th><th>n_nta</th><th>n_comments</th><th>extracted_majority_vote</th><th>extracted_weighted_majority_vote</th><th>polarity</th><th>n_downvotes</th><th>n_upvotes</th></tr><tr><td>str</td><td>str</td><td>u32</td><td>str</td><td>i64</td><td>f64</td><td>i32</td><td>i32</td><td>i32</td><td>str</td><td>str</td><td>f64</td><td>i64</td><td>i64</td></tr></thead><tbody><tr><td>&quot;t3_zvmflw&quot;</td><td>&quot;NTA&quot;</td><td>2919</td><td>&quot;Not the A-hole&quot;</td><td>53700</td><td>0.91</td><td>43</td><td>1457</td><td>1500</td><td>&quot;NTA&quot;</td><td>&quot;NTA&quot;</td><td>-0.942667</td><td>5894</td><td>59594</td></tr><tr><td>&quot;t3_wyjbjs&quot;</td><td>&quot;NTA&quot;</td><td>2398</td><td>&quot;Not the A-hole&quot;</td><td>47773</td><td>0.97</td><td>32</td><td>2713</td><td>2745</td><td>&quot;NTA&quot;</td><td>&quot;NTA&quot;</td><td>-0.976685</td><td>1525</td><td>49298</td></tr><tr><td>&quot;t3_xe62pq&quot;</td><td>&quot;NTA&quot;</td><td>2192</td><td>&quot;Not the A-hole&quot;</td><td>36730</td><td>0.96</td><td>91</td><td>1358</td><td>1449</td><td>&quot;NTA&quot;</td><td>&quot;NTA&quot;</td><td>-0.874396</td><td>1597</td><td>38327</td></tr><tr><td>&quot;t3_v5r6pf&quot;</td><td>&quot;NTA&quot;</td><td>1891</td><td>&quot;Not the A-hole&quot;</td><td>35429</td><td>0.97</td><td>6</td><td>1023</td><td>1029</td><td>&quot;NTA&quot;</td><td>&quot;NTA&quot;</td><td>-0.988338</td><td>1131</td><td>36560</td></tr><tr><td>&quot;t3_wcnh0v&quot;</td><td>&quot;NTA&quot;</td><td>1831</td><td>&quot;Not the A-hole&quot;</td><td>33462</td><td>0.97</td><td>9</td><td>1892</td><td>1901</td><td>&quot;NTA&quot;</td><td>&quot;NTA&quot;</td><td>-0.990531</td><td>1068</td><td>34530</td></tr><tr><td>&hellip;</td><td>&hellip;</td><td>&hellip;</td><td>&hellip;</td><td>&hellip;</td><td>&hellip;</td><td>&hellip;</td><td>&hellip;</td><td>&hellip;</td><td>&hellip;</td><td>&hellip;</td><td>&hellip;</td><td>&hellip;</td><td>&hellip;</td></tr><tr><td>&quot;t3_wvylh6&quot;</td><td>&quot;NTA&quot;</td><td>2809</td><td>&quot;Not the A-hole&quot;</td><td>0</td><td>0.5</td><td>0</td><td>2</td><td>2</td><td>&quot;NTA&quot;</td><td>&quot;NTA&quot;</td><td>-1.0</td><td>null</td><td>null</td></tr><tr><td>&quot;t3_wvzn06&quot;</td><td>&quot;NTA&quot;</td><td>2115</td><td>&quot;Not the A-hole&quot;</td><td>0</td><td>0.25</td><td>0</td><td>3</td><td>3</td><td>&quot;NTA&quot;</td><td>&quot;NTA&quot;</td><td>-1.0</td><td>0</td><td>0</td></tr><tr><td>&quot;t3_ww3xpx&quot;</td><td>&quot;NTA&quot;</td><td>3024</td><td>&quot;Not the A-hole&quot;</td><td>0</td><td>0.5</td><td>1</td><td>8</td><td>9</td><td>&quot;NTA&quot;</td><td>&quot;NTA&quot;</td><td>-0.777778</td><td>null</td><td>null</td></tr><tr><td>&quot;t3_wwgrwh&quot;</td><td>&quot;NTA&quot;</td><td>842</td><td>&quot;Not the A-hole&quot;</td><td>0</td><td>0.5</td><td>1</td><td>10</td><td>11</td><td>&quot;NTA&quot;</td><td>&quot;NTA&quot;</td><td>-0.818182</td><td>null</td><td>null</td></tr><tr><td>&quot;t3_wwikc1&quot;</td><td>&quot;NTA&quot;</td><td>2001</td><td>&quot;Not the A-hole&quot;</td><td>0</td><td>0.45</td><td>0</td><td>5</td><td>5</td><td>&quot;NTA&quot;</td><td>&quot;NTA&quot;</td><td>-1.0</td><td>0</td><td>0</td></tr></tbody></table></div>"
      ],
      "text/plain": [
       "shape: (42_950, 14)\n",
       "┌───────────┬───────────┬───────────┬───────────┬───┬───────────┬───────────┬───────────┬──────────┐\n",
       "│ name      ┆ ground_tr ┆ text_leng ┆ link_flai ┆ … ┆ extracted ┆ polarity  ┆ n_downvot ┆ n_upvote │\n",
       "│ ---       ┆ uth_major ┆ th        ┆ r_text    ┆   ┆ _weighted ┆ ---       ┆ es        ┆ s        │\n",
       "│ str       ┆ ity_vote  ┆ ---       ┆ ---       ┆   ┆ _majority ┆ f64       ┆ ---       ┆ ---      │\n",
       "│           ┆ ---       ┆ u32       ┆ str       ┆   ┆ _vo…      ┆           ┆ i64       ┆ i64      │\n",
       "│           ┆ str       ┆           ┆           ┆   ┆ ---       ┆           ┆           ┆          │\n",
       "│           ┆           ┆           ┆           ┆   ┆ str       ┆           ┆           ┆          │\n",
       "╞═══════════╪═══════════╪═══════════╪═══════════╪═══╪═══════════╪═══════════╪═══════════╪══════════╡\n",
       "│ t3_zvmflw ┆ NTA       ┆ 2919      ┆ Not the   ┆ … ┆ NTA       ┆ -0.942667 ┆ 5894      ┆ 59594    │\n",
       "│           ┆           ┆           ┆ A-hole    ┆   ┆           ┆           ┆           ┆          │\n",
       "│ t3_wyjbjs ┆ NTA       ┆ 2398      ┆ Not the   ┆ … ┆ NTA       ┆ -0.976685 ┆ 1525      ┆ 49298    │\n",
       "│           ┆           ┆           ┆ A-hole    ┆   ┆           ┆           ┆           ┆          │\n",
       "│ t3_xe62pq ┆ NTA       ┆ 2192      ┆ Not the   ┆ … ┆ NTA       ┆ -0.874396 ┆ 1597      ┆ 38327    │\n",
       "│           ┆           ┆           ┆ A-hole    ┆   ┆           ┆           ┆           ┆          │\n",
       "│ t3_v5r6pf ┆ NTA       ┆ 1891      ┆ Not the   ┆ … ┆ NTA       ┆ -0.988338 ┆ 1131      ┆ 36560    │\n",
       "│           ┆           ┆           ┆ A-hole    ┆   ┆           ┆           ┆           ┆          │\n",
       "│ t3_wcnh0v ┆ NTA       ┆ 1831      ┆ Not the   ┆ … ┆ NTA       ┆ -0.990531 ┆ 1068      ┆ 34530    │\n",
       "│           ┆           ┆           ┆ A-hole    ┆   ┆           ┆           ┆           ┆          │\n",
       "│ …         ┆ …         ┆ …         ┆ …         ┆ … ┆ …         ┆ …         ┆ …         ┆ …        │\n",
       "│ t3_wvylh6 ┆ NTA       ┆ 2809      ┆ Not the   ┆ … ┆ NTA       ┆ -1.0      ┆ null      ┆ null     │\n",
       "│           ┆           ┆           ┆ A-hole    ┆   ┆           ┆           ┆           ┆          │\n",
       "│ t3_wvzn06 ┆ NTA       ┆ 2115      ┆ Not the   ┆ … ┆ NTA       ┆ -1.0      ┆ 0         ┆ 0        │\n",
       "│           ┆           ┆           ┆ A-hole    ┆   ┆           ┆           ┆           ┆          │\n",
       "│ t3_ww3xpx ┆ NTA       ┆ 3024      ┆ Not the   ┆ … ┆ NTA       ┆ -0.777778 ┆ null      ┆ null     │\n",
       "│           ┆           ┆           ┆ A-hole    ┆   ┆           ┆           ┆           ┆          │\n",
       "│ t3_wwgrwh ┆ NTA       ┆ 842       ┆ Not the   ┆ … ┆ NTA       ┆ -0.818182 ┆ null      ┆ null     │\n",
       "│           ┆           ┆           ┆ A-hole    ┆   ┆           ┆           ┆           ┆          │\n",
       "│ t3_wwikc1 ┆ NTA       ┆ 2001      ┆ Not the   ┆ … ┆ NTA       ┆ -1.0      ┆ 0         ┆ 0        │\n",
       "│           ┆           ┆           ┆ A-hole    ┆   ┆           ┆           ┆           ┆          │\n",
       "└───────────┴───────────┴───────────┴───────────┴───┴───────────┴───────────┴───────────┴──────────┘"
      ]
     },
     "metadata": {},
     "output_type": "display_data"
    }
   ],
   "source": [
    "S = pl.col('score')\n",
    "R = pl.col('upvote_ratio')\n",
    "denominator = pl.when((2 * R - 1).abs() > 0).then(2 * R - 1).otherwise(None)\n",
    "\n",
    "joined_lf = (\n",
    "    submission_features_lf\n",
    "    .join(\n",
    "        per_submission_extracted_majority_votes_lf,\n",
    "        left_on='name',\n",
    "        right_on='link_id',\n",
    "        how='inner',\n",
    "    )\n",
    "    .with_columns(\n",
    "        n_downvotes=(\n",
    "            (S * (1 - R) / denominator)\n",
    "            .round(0)\n",
    "            .cast(pl.Int64, strict=False)\n",
    "        ),\n",
    "    )\n",
    "    .with_columns(\n",
    "        n_upvotes=(\n",
    "            pl.when(pl.col('n_downvotes').is_not_null())\n",
    "            .then(S + pl.col('n_downvotes'))\n",
    "            .otherwise(None)\n",
    "            .round(0)\n",
    "            .cast(pl.Int64, strict=False)\n",
    "        ),\n",
    "    )\n",
    ")\n",
    "\n",
    "SUBMISSION_PATTERN_DATA_PARQUET = settings.DATA_DIR / 'submission_pattern_data.parquet'\n",
    "if not SUBMISSION_PATTERN_DATA_PARQUET.exists():\n",
    "    joined_lf.sink_parquet(SUBMISSION_PATTERN_DATA_PARQUET, engine='streaming')\n",
    "joined_lf = pl.scan_parquet(SUBMISSION_PATTERN_DATA_PARQUET)\n",
    "\n",
    "submission_patterns_df = joined_lf.collect(engine='streaming')\n",
    "_ = display(submission_patterns_df.sort('score', descending=True))"
   ]
  }
 ],
 "metadata": {
  "kernelspec": {
   "display_name": "ti3160tu-nlp-group-project",
   "language": "python",
   "name": "python3"
  },
  "language_info": {
   "codemirror_mode": {
    "name": "ipython",
    "version": 3
   },
   "file_extension": ".py",
   "mimetype": "text/x-python",
   "name": "python",
   "nbconvert_exporter": "python",
   "pygments_lexer": "ipython3",
   "version": "3.13.2"
  }
 },
 "nbformat": 4,
 "nbformat_minor": 5
}
