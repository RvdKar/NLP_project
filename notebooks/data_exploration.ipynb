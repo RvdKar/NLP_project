{
 "cells": [
  {
   "cell_type": "code",
   "execution_count": 1,
   "id": "0f16e794",
   "metadata": {},
   "outputs": [],
   "source": [
    "import json\n",
    "from pathlib import Path\n",
    "import datetime as dt\n",
    "from typing import TypedDict\n",
    "import typing\n",
    "from tqdm import tqdm\n",
    "import subprocess"
   ]
  },
  {
   "cell_type": "code",
   "execution_count": null,
   "id": "2bb24ffa",
   "metadata": {},
   "outputs": [],
   "source": [
    "ROOT_DIR = Path(__file__).resolve().parent\n",
    "INPUT_FILE = ROOT_DIR / r'amitheasshole_submissions.ndjson'\n",
    "TOTAL_LINES = int(subprocess.check_output(['wc', '-l', str(INPUT_FILE)]).split()[0])"
   ]
  },
  {
   "cell_type": "code",
   "execution_count": null,
   "id": "1a6e155c",
   "metadata": {},
   "outputs": [],
   "source": [
    "class Submission(TypedDict):\n",
    "    created_utc: int"
   ]
  },
  {
   "cell_type": "code",
   "execution_count": null,
   "id": "dab1452b",
   "metadata": {},
   "outputs": [],
   "source": [
    "def main() -> None:\n",
    "    with INPUT_FILE.open('r', encoding='utf-8') as file:\n",
    "        submissions = (\n",
    "            typing.cast(\n",
    "                Submission, \n",
    "                json.loads(line)\n",
    "            )\n",
    "            for line in file\n",
    "        )\n",
    "\n",
    "        first_submission = next(submissions, None)\n",
    "        if first_submission is None:\n",
    "            print('No submissions')\n",
    "            return\n",
    "        \n",
    "        first_date = dt.datetime.fromtimestamp(first_submission['created_utc'])\n",
    "        min_date = max_date = first_date\n",
    "\n",
    "        for submission in tqdm(submissions, total=TOTAL_LINES - 1, desc='Processing submissions'):\n",
    "            submission_date = dt.datetime.fromtimestamp(submission['created_utc'])\n",
    "            min_date = min(min_date, submission_date)\n",
    "            max_date = max(max_date, submission_date)\n",
    "\n",
    "    print(f'{min_date=}')\n",
    "    print(f'{max_date=}')\n",
    "\n",
    "main()"
   ]
  }
 ],
 "metadata": {
  "kernelspec": {
   "display_name": "ti3160tu-nlp-group-project",
   "language": "python",
   "name": "python3"
  },
  "language_info": {
   "codemirror_mode": {
    "name": "ipython",
    "version": 3
   },
   "file_extension": ".py",
   "mimetype": "text/x-python",
   "name": "python",
   "nbconvert_exporter": "python",
   "pygments_lexer": "ipython3",
   "version": "3.13.2"
  }
 },
 "nbformat": 4,
 "nbformat_minor": 5
}
